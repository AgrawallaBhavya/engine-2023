{
 "cells": [
  {
   "cell_type": "code",
   "execution_count": 1,
   "id": "57ee42ba",
   "metadata": {},
   "outputs": [],
   "source": [
    "import itertools"
   ]
  },
  {
   "cell_type": "code",
   "execution_count": 1,
   "id": "018129ee",
   "metadata": {},
   "outputs": [],
   "source": [
    "def wasserstein_distance(hist1, hist2):\n",
    "    emd = 0\n",
    "    dist = 0\n",
    "    for i in range(len(hist1)):\n",
    "        emd += hist1[i] - hist2[i]\n",
    "        dist += abs(emd)\n",
    "    return dist"
   ]
  },
  {
   "cell_type": "code",
   "execution_count": null,
   "id": "094346ee",
   "metadata": {},
   "outputs": [],
   "source": [
    "ranks = ('2', '3', '4', '5', '6', '7', '8', '9', 'T', 'J', 'Q', 'K', 'A')\n",
    "suits = ('d', 'h', 'c', 's')\n",
    "red_suits = ('d', 'h')\n",
    "black_suits = ('c', 's')\n",
    "red_weights = {ranks[i]:14 + i for i in len(ranks)}\n",
    "black_weights = {ranks[i]:1 + i for i in len(ranks)}\n",
    "suit_weights = {suits[i]:4-i for i in len(suits)}\n",
    "def get_rank(card):\n",
    "    if card[1] in red_suits:\n",
    "        return (red_weights[card[0]], suit_weights[card[1]], card)\n",
    "    return (black_weights[card[0]], suit_weights[card[1]], card)"
   ]
  },
  {
   "cell_type": "code",
   "execution_count": 3,
   "id": "40bbcb33",
   "metadata": {},
   "outputs": [
    {
     "data": {
      "text/plain": [
       "4"
      ]
     },
     "execution_count": 3,
     "metadata": {},
     "output_type": "execute_result"
    }
   ],
   "source": [
    "def standardize(hole, community = []):\n",
    "    hole = [get_rank(card) for card in hole]\n",
    "    hole.sort(reverse = True)\n",
    "    hole = [rank[2] for rank in hole]\n",
    "    \n",
    "    community = [get_rank(card) for card in community]\n",
    "    community.sort(reverse = True)\n",
    "    community = [rank[2] for rank in community]\n",
    "    \n",
    "    if get_first_red_suit(hole, community) == 'h':\n",
    "        hole, community = swap_red(hole, community)\n",
    "    if get_first_black_suit(hole, community) == 's':\n",
    "        hole, community = swap_black(hole, community)\n",
    "        \n",
    "    return hole, community\n",
    "\n",
    "def get_first_red_suit(hole, community = []):\n",
    "    if hole[0][1] in red_suits:\n",
    "        return hole[0][1]\n",
    "    if community[0][1] in red_suits:\n",
    "        return community[0][1]\n",
    "    return 'none'\n",
    "\n",
    "def get_first_black_suit(hole, community = []):\n",
    "    for i in range(len(hole)):\n",
    "        if hole[i][1] in black_suits:\n",
    "            return hole[i][1]\n",
    "    for i in range(len(community)):\n",
    "        if community[i][1] in black_suits:\n",
    "            return community[i][1]\n",
    "    return 'none'\n",
    "    \n",
    "def swap_red(card):\n",
    "    if card[1] == 'd':\n",
    "        card = card[0] + 'h'\n",
    "    elif card[1] == 'h':\n",
    "        card = card[0] + 'd'\n",
    "    return card\n",
    "def swap_black(card):\n",
    "    if card[1] == 'c':\n",
    "        card = card[0] + 's'\n",
    "    elif card[1] == 's':\n",
    "        card = card[0] + 'c'\n",
    "    return card\n",
    "\n",
    "def swap_red(hole, community = []):\n",
    "    hole = [swap_red[card] for card in hole]\n",
    "    community = [swap_red[card] for card in community]\n",
    "    return hole, commmunity\n",
    "\n",
    "def swap_black(hole, community = []):\n",
    "    hole = [swap_black[card] for card in hole]\n",
    "    community = [swap_black[card] for card in community]\n",
    "    return hole, commmunity"
   ]
  },
  {
   "cell_type": "code",
   "execution_count": null,
   "id": "6c3599ee",
   "metadata": {},
   "outputs": [],
   "source": [
    "def get_hand_rank(hole, community = []):\n",
    "    \"\"\"\n",
    "    Priority order: Number of reds in hole, number of reds in community, \n",
    "                    rank of word formed by reds,\n",
    "                    rank of word formed by blacks\n",
    "    Rank of word formed by reds: arrange reds in hole and community from left to right.\n",
    "                                 Prioritize card on rank then suit\n",
    "    Ranks start at 1, so subtract 1 when mapping into list\n",
    "    \"\"\"\n",
    "    street = len(community)\n",
    "    assert len(community) <= 5, \"We are not hashing postriver cards\"\n",
    "    hole, community = standardize(hole, community)\n",
    "    hole_reds = 0\n",
    "    community_reds = 0\n",
    "    red_word = []\n",
    "    black_word = []\n",
    "    for card in hole:\n",
    "        if card[1] in red_suits:\n",
    "            red_word.append(card)\n",
    "            hole_reds += 1\n",
    "        else:\n",
    "            black_word.append(card)\n",
    "    for card in community:\n",
    "        if card[1] in red_suits:\n",
    "            red_word.append(card)\n",
    "            community_reds += 1\n",
    "        else:\n",
    "            black_word.append(card)\n",
    "    return offset[street][(hole_reds, community_reds)] + get_word_rank(red_word, black_word)\n",
    "\n",
    "def get_word_rank(red_word, black_word):\n",
    "    return possible_words[len(black_word)]*(red_rank(red_word)-1) + black_rank(black_word)\n",
    "\n",
    "def red_rank(red_word):\n",
    "    \"\"\"\n",
    "    red_word begins with d suit\n",
    "    \"\"\"\n",
    "def black_rank(black_word):\n",
    "    \"\"\"\n",
    "    black_word begins with c suit\n",
    "    \"\"\"\n",
    "possible_words = {}\n",
    "offset = {}"
   ]
  }
 ],
 "metadata": {
  "kernelspec": {
   "display_name": "Python 3 (ipykernel)",
   "language": "python",
   "name": "python3"
  },
  "language_info": {
   "codemirror_mode": {
    "name": "ipython",
    "version": 3
   },
   "file_extension": ".py",
   "mimetype": "text/x-python",
   "name": "python",
   "nbconvert_exporter": "python",
   "pygments_lexer": "ipython3",
   "version": "3.8.13"
  },
  "latex_envs": {
   "LaTeX_envs_menu_present": true,
   "autoclose": false,
   "autocomplete": true,
   "bibliofile": "biblio.bib",
   "cite_by": "apalike",
   "current_citInitial": 1,
   "eqLabelWithNumbers": true,
   "eqNumInitial": 1,
   "hotkeys": {
    "equation": "Ctrl-E",
    "itemize": "Ctrl-I"
   },
   "labels_anchors": false,
   "latex_user_defs": false,
   "report_style_numbering": false,
   "user_envs_cfg": false
  },
  "toc": {
   "base_numbering": 1,
   "nav_menu": {},
   "number_sections": true,
   "sideBar": true,
   "skip_h1_title": false,
   "title_cell": "Table of Contents",
   "title_sidebar": "Contents",
   "toc_cell": false,
   "toc_position": {},
   "toc_section_display": true,
   "toc_window_display": false
  }
 },
 "nbformat": 4,
 "nbformat_minor": 5
}
